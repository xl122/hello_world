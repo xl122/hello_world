{
 "cells": [
  {
   "cell_type": "code",
   "execution_count": null,
   "id": "fa85333b",
   "metadata": {},
   "outputs": [],
   "source": [
    "#TensorFlow is an open source machine learning library\n",
    "!pip install tensorflow as tf==2.0\n",
    "import tensorflow as tf\n",
    "#Numpy is a math library\n",
    "import numpy as np\n",
    "#Matplotlib is a graphing library\n",
    "import matplotlib.pyplot as plt\n",
    "#math is Python's math library\n",
    "import math"
   ]
  }
 ],
 "metadata": {
  "kernelspec": {
   "display_name": "Python 3",
   "language": "python",
   "name": "python3"
  },
  "language_info": {
   "codemirror_mode": {
    "name": "ipython",
    "version": 3
   },
   "file_extension": ".py",
   "mimetype": "text/x-python",
   "name": "python",
   "nbconvert_exporter": "python",
   "pygments_lexer": "ipython3",
   "version": "3.8.8"
  }
 },
 "nbformat": 4,
 "nbformat_minor": 5
}
